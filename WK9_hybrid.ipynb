{
 "cells": [
  {
   "cell_type": "code",
   "execution_count": 1,
   "metadata": {},
   "outputs": [],
   "source": [
    "import numpy\n",
    "from numpy.fft import fft2, ifft2, fftshift, ifftshift\n",
    "from scipy import misc\n",
    "from scipy import ndimage\n",
    "import math\n",
    "import cv2\n",
    "\n",
    "def scaleSpectrum(A):\n",
    "   return numpy.real(numpy.log10(numpy.absolute(A) + numpy.ones(A.shape)))\n",
    "\n",
    "\n",
    "# sample values from a spherical gaussian function from the center of the image\n",
    "def makeGaussianFilter(numRows, numCols, sigma, highPass=True):\n",
    "   centerI = int(numRows/2) + 1 if numRows % 2 == 1 else int(numRows/2)\n",
    "   centerJ = int(numCols/2) + 1 if numCols % 2 == 1 else int(numCols/2)\n",
    "\n",
    "   def gaussian(i,j):\n",
    "      coefficient = math.exp(-1.0 * ((i - centerI)**2 + (j - centerJ)**2) / (2 * sigma**2))\n",
    "      return 1 - coefficient if highPass else coefficient\n",
    "\n",
    "   return numpy.array([[gaussian(i,j) for j in range(numCols)] for i in range(numRows)])\n",
    "\n",
    "\n",
    "def filterDFT(imageMatrix, filterMatrix):\n",
    "   shiftedDFT = fftshift(fft2(imageMatrix))\n",
    "   cv2.imwrite(\"dft.png\", scaleSpectrum(shiftedDFT))\n",
    "\n",
    "   filteredDFT = shiftedDFT * filterMatrix\n",
    "   cv2.imwrite(\"filtered-dft.png\", scaleSpectrum(filteredDFT))\n",
    "   return ifft2(ifftshift(filteredDFT))\n",
    "\n",
    "\n",
    "def lowPass(imageMatrix, sigma):\n",
    "   n,m = imageMatrix.shape\n",
    "   return filterDFT(imageMatrix, makeGaussianFilter(n, m, sigma, highPass=False))\n",
    "\n",
    "\n",
    "def highPass(imageMatrix, sigma):\n",
    "   n,m = imageMatrix.shape\n",
    "   return filterDFT(imageMatrix, makeGaussianFilter(n, m, sigma, highPass=True))\n",
    "\n",
    "\n",
    "def hybridImage(highFreqImg, lowFreqImg, sigmaHigh, sigmaLow):\n",
    "   highPassed = highPass(highFreqImg, sigmaHigh)\n",
    "   lowPassed = lowPass(lowFreqImg, sigmaLow)\n",
    "\n",
    "   return highPassed + lowPassed\n",
    "\n",
    "\n",
    "def playWithFiltering():\n",
    "   marilyn = ndimage.imread(\"marilyn.png\", flatten=True)\n",
    "\n",
    "   highPassedMarilyn = highPass(marilyn, 20)\n",
    "   lowPassedMarilyn = lowPass(marilyn, 20)\n",
    "\n",
    "   cv2.imwrite(\"low-passed-marilyn.png\", numpy.real(lowPassedMarilyn))\n",
    "   cv2.imwrite(\"high-passed-marilyn.png\", numpy.real(highPassedMarilyn))\n",
    "   cv2.imwrite(\"sum-of-marilyns.png\", numpy.real((highPassedMarilyn + lowPassedMarilyn)/2.0))\n",
    "\n"
   ]
  },
  {
   "cell_type": "code",
   "execution_count": 2,
   "metadata": {},
   "outputs": [
    {
     "data": {
      "text/plain": [
       "True"
      ]
     },
     "execution_count": 2,
     "metadata": {},
     "output_type": "execute_result"
    }
   ],
   "source": [
    "einstein = cv2.imread(\"einstein.png\",0)\n",
    "marilyn = cv2.imread(\"marilyn.png\",0)\n",
    "\n",
    "hybrid = hybridImage(einstein, marilyn, 25, 10)\n",
    "cv2.imwrite(\"marilyn-einstein.png\", numpy.real(hybrid))"
   ]
  },
  {
   "cell_type": "code",
   "execution_count": null,
   "metadata": {},
   "outputs": [],
   "source": []
  }
 ],
 "metadata": {
  "kernelspec": {
   "display_name": "Python 3 (ipykernel)",
   "language": "python",
   "name": "python3"
  },
  "language_info": {
   "codemirror_mode": {
    "name": "ipython",
    "version": 3
   },
   "file_extension": ".py",
   "mimetype": "text/x-python",
   "name": "python",
   "nbconvert_exporter": "python",
   "pygments_lexer": "ipython3",
   "version": "3.11.5"
  }
 },
 "nbformat": 4,
 "nbformat_minor": 4
}
